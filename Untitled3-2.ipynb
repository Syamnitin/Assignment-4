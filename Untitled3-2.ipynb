{
  "nbformat": 4,
  "nbformat_minor": 0,
  "metadata": {
    "colab": {
      "provenance": []
    },
    "kernelspec": {
      "name": "python3",
      "display_name": "Python 3"
    },
    "language_info": {
      "name": "python"
    }
  },
  "cells": [
    {
      "cell_type": "code",
      "source": [
        "def sjf_non_preemptive(processes):\n",
        "    # Sort the processes based on burst time\n",
        "    processes.sort(key=lambda x: x[2])  # Sort by the third element (burst time)\n",
        "\n",
        "    # Initialize variables for tracking time and waiting time\n",
        "    total_time = 0\n",
        "    waiting_times = [0] * len(processes)\n",
        "    turnaround_times = [0] * len(processes)\n",
        "\n",
        "    for i, process in enumerate(processes):\n",
        "        # Check if the process can start immediately or needs to wait\n",
        "        if process[1] > total_time:\n",
        "            total_time = process[1]\n",
        "\n",
        "        # Calculate waiting time and turnaround time\n",
        "        waiting_times[i] = total_time - process[1]\n",
        "        total_time += process[2]\n",
        "        turnaround_times[i] = total_time - process[1]\n",
        "\n",
        "    # Calculate total waiting time and total turnaround time\n",
        "    total_waiting_time = sum(waiting_times)\n",
        "    total_turnaround_time = sum(turnaround_times)\n",
        "\n",
        "    # Calculate average waiting time and average turnaround time\n",
        "    avg_waiting_time = total_waiting_time / len(processes)\n",
        "    avg_turnaround_time = total_turnaround_time / len(processes)\n",
        "\n",
        "    # Print the results\n",
        "    print(\"SJF Non-Preemptive Scheduling:\")\n",
        "    print(\"Process\\tWaiting Time\\tTurnaround Time\")\n",
        "\n",
        "    for i, process in enumerate(processes):\n",
        "        print(f\"{process[0]}\\t{waiting_times[i]}\\t\\t{turnaround_times[i]}\")\n",
        "\n",
        "    print(f\"Average Waiting Time: {avg_waiting_time}\")\n",
        "    print(f\"Average Turnaround Time: {avg_turnaround_time}\")\n",
        "\n",
        "if __name__ == \"__main__\":\n",
        "    processes = [\n",
        "        (\"A\", 0, 30, 3),\n",
        "        (\"B\", 10, 20, 1),\n",
        "        (\"C\", 15, 40, 4),\n",
        "        (\"D\", 20, 15, 2)\n",
        "    ]\n",
        "\n",
        "    sjf_non_preemptive(processes)"
      ],
      "metadata": {
        "colab": {
          "base_uri": "https://localhost:8080/"
        },
        "id": "GJDjO-7xUn0G",
        "outputId": "a5efb15e-14f5-46b4-b30d-3fdabd68162c"
      },
      "execution_count": 9,
      "outputs": [
        {
          "output_type": "stream",
          "name": "stdout",
          "text": [
            "SJF Non-Preemptive Scheduling:\n",
            "Process\tWaiting Time\tTurnaround Time\n",
            "D\t0\t\t15\n",
            "B\t25\t\t45\n",
            "A\t55\t\t85\n",
            "C\t70\t\t110\n",
            "Average Waiting Time: 37.5\n",
            "Average Turnaround Time: 63.75\n"
          ]
        }
      ]
    },
    {
      "cell_type": "code",
      "source": [
        "def fcfs(processes):\n",
        "    # Number of processes\n",
        "    num_processes = len(processes)\n",
        "\n",
        "    # Initialize variables for tracking time and waiting time\n",
        "    current_time = 0\n",
        "    waiting_times = [0] * num_processes\n",
        "    turnaround_times = [0] * num_processes\n",
        "\n",
        "    for i, process in enumerate(processes):\n",
        "        process_name, arrival_time, burst_time, _ = process\n",
        "\n",
        "        # Check if the process can start immediately or needs to wait\n",
        "        if arrival_time > current_time:\n",
        "            current_time = arrival_time\n",
        "\n",
        "        # Calculate waiting time and turnaround time\n",
        "        waiting_times[i] = current_time - arrival_time\n",
        "        current_time += burst_time\n",
        "        turnaround_times[i] = current_time - arrival_time\n",
        "\n",
        "    # Calculate the total waiting time and total turnaround time\n",
        "    total_waiting_time = sum(waiting_times)\n",
        "    total_turnaround_time = sum(turnaround_times)\n",
        "\n",
        "    # Calculate the average waiting time and average turnaround time\n",
        "    avg_waiting_time = total_waiting_time / num_processes\n",
        "    avg_turnaround_time = total_turnaround_time / num_processes\n",
        "\n",
        "    # Print the results\n",
        "    print(\"FCFS Scheduling:\")\n",
        "    print(\"Process\\tWaiting Time\\tTurnaround Time\")\n",
        "\n",
        "    for i, process in enumerate(processes):\n",
        "        print(f\"{process[0]}\\t{waiting_times[i]}\\t\\t{turnaround_times[i]}\")\n",
        "\n",
        "    print(f\"Average Waiting Time: {avg_waiting_time}\")\n",
        "    print(f\"Average Turnaround Time: {avg_turnaround_time}\")\n",
        "\n",
        "if __name__ == \"__main__\":\n",
        "    processes = [\n",
        "        (\"A\", 0, 30, 3),\n",
        "        (\"B\", 10, 20, 1),\n",
        "        (\"C\", 15, 40, 4),\n",
        "        (\"D\", 20, 15, 2)\n",
        "    ]\n",
        "\n",
        "    fcfs(processes)"
      ],
      "metadata": {
        "colab": {
          "base_uri": "https://localhost:8080/"
        },
        "id": "K64v-x6ZWKtm",
        "outputId": "c10f58aa-bc90-4649-d76e-0ffd9727fa63"
      },
      "execution_count": 10,
      "outputs": [
        {
          "output_type": "stream",
          "name": "stdout",
          "text": [
            "FCFS Scheduling:\n",
            "Process\tWaiting Time\tTurnaround Time\n",
            "A\t0\t\t30\n",
            "B\t20\t\t40\n",
            "C\t35\t\t75\n",
            "D\t70\t\t85\n",
            "Average Waiting Time: 31.25\n",
            "Average Turnaround Time: 57.5\n"
          ]
        }
      ]
    },
    {
      "cell_type": "code",
      "source": [
        "def priority_non_preemptive(processes):\n",
        "    # Number of processes\n",
        "    num_processes = len(processes)\n",
        "\n",
        "    # Sort the processes based on priority\n",
        "    processes.sort(key=lambda x: x[3])  # Sort by the fourth element (priority)\n",
        "\n",
        "    # Initialize variables for tracking time and waiting time\n",
        "    current_time = 0\n",
        "    waiting_times = [0] * num_processes\n",
        "    turnaround_times = [0] * num_processes\n",
        "\n",
        "    for i, process in enumerate(processes):\n",
        "        process_name, arrival_time, burst_time, priority = process\n",
        "\n",
        "        # Check if the process can start immediately or needs to wait\n",
        "        if arrival_time > current_time:\n",
        "            current_time = arrival_time\n",
        "\n",
        "        # Calculate waiting time and turnaround time\n",
        "        waiting_times[i] = current_time - arrival_time\n",
        "        current_time += burst_time\n",
        "        turnaround_times[i] = current_time - arrival_time\n",
        "\n",
        "    # Calculate the total waiting time and total turnaround time\n",
        "    total_waiting_time = sum(waiting_times)\n",
        "    total_turnaround_time = sum(turnaround_times)\n",
        "\n",
        "    # Calculate the average waiting time and average turnaround time\n",
        "    avg_waiting_time = total_waiting_time / num_processes\n",
        "    avg_turnaround_time = total_turnaround_time / num_processes\n",
        "\n",
        "    # Print the results\n",
        "    print(\"Priority Scheduling Non-Preemptive:\")\n",
        "    print(\"Process\\tWaiting Time\\tTurnaround Time\")\n",
        "\n",
        "    for i, process in enumerate(processes):\n",
        "        print(f\"{process[0]}\\t{waiting_times[i]}\\t\\t{turnaround_times[i]}\")\n",
        "\n",
        "    print(f\"Average Waiting Time: {avg_waiting_time}\")\n",
        "    print(f\"Average Turnaround Time: {avg_turnaround_time}\")\n",
        "\n",
        "if __name__ == \"__main__\":\n",
        "    processes = [\n",
        "        (\"A\", 0, 30, 3),\n",
        "        (\"B\", 10, 20, 1),\n",
        "        (\"C\", 15, 40, 4),\n",
        "        (\"D\", 20, 15, 2)\n",
        "    ]\n",
        "\n",
        "    priority_non_preemptive(processes)"
      ],
      "metadata": {
        "id": "hM3FqzjPWdBM",
        "outputId": "c0e7f102-3013-488d-fa40-e6039c934b9c",
        "colab": {
          "base_uri": "https://localhost:8080/"
        }
      },
      "execution_count": 11,
      "outputs": [
        {
          "output_type": "stream",
          "name": "stdout",
          "text": [
            "Priority Scheduling Non-Preemptive:\n",
            "Process\tWaiting Time\tTurnaround Time\n",
            "B\t0\t\t20\n",
            "D\t10\t\t25\n",
            "A\t45\t\t75\n",
            "C\t60\t\t100\n",
            "Average Waiting Time: 28.75\n",
            "Average Turnaround Time: 55.0\n"
          ]
        }
      ]
    },
    {
      "cell_type": "code",
      "source": [],
      "metadata": {
        "id": "kkDx6pS2Wgee"
      },
      "execution_count": null,
      "outputs": []
    }
  ]
}